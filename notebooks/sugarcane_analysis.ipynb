{
 "cells": [
  {
   "cell_type": "code",
   "execution_count": 1,
   "id": "c2c4563a-fc6c-4db1-8235-be16ae57a2b4",
   "metadata": {},
   "outputs": [],
   "source": [
    "import pandas as pd"
   ]
  },
  {
   "cell_type": "code",
   "execution_count": 2,
   "id": "093c2c30-fee9-478d-9d29-7fddc2cfd87c",
   "metadata": {},
   "outputs": [],
   "source": [
    "import numpy as np"
   ]
  },
  {
   "cell_type": "code",
   "execution_count": 7,
   "id": "21010d26-35cf-4765-aa1f-f35ccc105a56",
   "metadata": {},
   "outputs": [],
   "source": [
    "crop_df = pd.read_csv(r'D:\\ECO221_Group-25\\data\\ECO221_Project_2025_Final.csv')"
   ]
  },
  {
   "cell_type": "code",
   "execution_count": 8,
   "id": "48eb8a52-d968-4d49-ad51-114d7b73a3b1",
   "metadata": {},
   "outputs": [],
   "source": [
    "rainfall_df = pd.read_csv(r'D:\\ECO221_Group-25\\data\\RF_DistrictWise_ECO221_2025.csv')"
   ]
  },
  {
   "cell_type": "code",
   "execution_count": null,
   "id": "ff58f775-f407-464d-b1de-83f605294f09",
   "metadata": {},
   "outputs": [],
   "source": [
    "salinity_df = pd.read"
   ]
  }
 ],
 "metadata": {
  "kernelspec": {
   "display_name": "Python 3 (ipykernel)",
   "language": "python",
   "name": "python3"
  },
  "language_info": {
   "codemirror_mode": {
    "name": "ipython",
    "version": 3
   },
   "file_extension": ".py",
   "mimetype": "text/x-python",
   "name": "python",
   "nbconvert_exporter": "python",
   "pygments_lexer": "ipython3",
   "version": "3.13.3"
  }
 },
 "nbformat": 4,
 "nbformat_minor": 5
}

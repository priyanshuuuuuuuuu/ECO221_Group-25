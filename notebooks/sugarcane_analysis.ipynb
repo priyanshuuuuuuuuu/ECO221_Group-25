{
 "cells": [
  {
   "cell_type": "code",
   "execution_count": 83,
   "id": "c2c4563a-fc6c-4db1-8235-be16ae57a2b4",
   "metadata": {},
   "outputs": [],
   "source": [
    "import pandas as pd"
   ]
  },
  {
   "cell_type": "code",
   "execution_count": 84,
   "id": "093c2c30-fee9-478d-9d29-7fddc2cfd87c",
   "metadata": {},
   "outputs": [],
   "source": [
    "import numpy as np"
   ]
  },
  {
   "cell_type": "code",
   "execution_count": 85,
   "id": "21010d26-35cf-4765-aa1f-f35ccc105a56",
   "metadata": {},
   "outputs": [],
   "source": [
    "crop_df = pd.read_csv(r'D:\\ECO221_Group-25\\data\\ECO221_Project_2025_Final.csv')"
   ]
  },
  {
   "cell_type": "code",
   "execution_count": 86,
   "id": "48eb8a52-d968-4d49-ad51-114d7b73a3b1",
   "metadata": {},
   "outputs": [],
   "source": [
    "rainfall_df = pd.read_csv(r'D:\\ECO221_Group-25\\data\\RF_DistrictWise_ECO221_2025.csv')"
   ]
  },
  {
   "cell_type": "code",
   "execution_count": 87,
   "id": "ff58f775-f407-464d-b1de-83f605294f09",
   "metadata": {},
   "outputs": [],
   "source": [
    "salinity_df = pd.read_csv(r'D:\\ECO221_Group-25\\data\\Salinity_Alkalinity_ECO221_2025.csv')"
   ]
  },
  {
   "cell_type": "code",
   "execution_count": 88,
   "id": "bed5c0a2",
   "metadata": {},
   "outputs": [],
   "source": [
    "sugarcane_df = crop_df[crop_df['crop'].str.lower() == 'sugarcane'].copy()"
   ]
  },
  {
   "cell_type": "code",
   "execution_count": 89,
   "id": "616462b0",
   "metadata": {},
   "outputs": [],
   "source": [
    "#Capping the irrigated Area\n",
    "sugarcane_df['irrigatedarea_capped'] = sugarcane_df[[\"irrigatedarea1000hectares\", \"area1000hectares\"]].min(axis=1)"
   ]
  },
  {
   "cell_type": "code",
   "execution_count": 90,
   "id": "d750a5a5",
   "metadata": {},
   "outputs": [],
   "source": [
    "sugarcane_df['irrigatedarea_new'] = sugarcane_df['irrigatedarea_capped'] + 1"
   ]
  },
  {
   "cell_type": "code",
   "execution_count": 91,
   "id": "454c8d33",
   "metadata": {},
   "outputs": [],
   "source": [
    "sugarcane_df['unirrigated_area'] = sugarcane_df['area1000hectares'] - sugarcane_df['irrigatedarea_capped']\n"
   ]
  },
  {
   "cell_type": "code",
   "execution_count": 114,
   "id": "b54530ac",
   "metadata": {},
   "outputs": [
    {
     "name": "stdout",
     "output_type": "stream",
     "text": [
      "Initial sugarcane districts: 266\n"
     ]
    }
   ],
   "source": [
    "initial_districts = crop_df[crop_df[\"crop\"].str.lower() == \"sugarcane\"][\"districtname\"].str.lower().str.strip().nunique()\n",
    "print(\"Initial sugarcane districts:\", initial_districts)"
   ]
  },
  {
   "cell_type": "code",
   "execution_count": 92,
   "id": "b25dfcd8",
   "metadata": {},
   "outputs": [],
   "source": [
    "rainfall_2017 = rainfall_df[rainfall_df['yearcode'] == 2017].copy()\n",
    "rainfall_2017['month'] = rainfall_2017['month'].str.lower().str.strip()\n",
    "rainfall_2017['district'] = rainfall_2017['district'].str.lower().str.strip()"
   ]
  },
  {
   "cell_type": "code",
   "execution_count": 93,
   "id": "693c26ce",
   "metadata": {},
   "outputs": [],
   "source": [
    "monsoon_months = ['june, 2017', 'july, 2017', 'august, 2017', 'september, 2017']\n"
   ]
  },
  {
   "cell_type": "code",
   "execution_count": 94,
   "id": "0aa3f06e",
   "metadata": {},
   "outputs": [],
   "source": [
    "# === Aggregate annual rainfall ===\n",
    "annual_rainfall = rainfall_2017.groupby('district')['rf'].sum().reset_index()\n",
    "annual_rainfall.columns = ['districtname', 'annual_rainfall_mm']"
   ]
  },
  {
   "cell_type": "code",
   "execution_count": 95,
   "id": "b368fb6d",
   "metadata": {},
   "outputs": [],
   "source": [
    "# === Aggregate monsoon rainfall ===\n",
    "monsoon_rainfall = rainfall_2017[rainfall_2017['month'].isin(monsoon_months)]\n",
    "monsoon_summary = monsoon_rainfall.groupby('district')['rf'].sum().reset_index()\n",
    "monsoon_summary.columns = ['districtname', 'monsoon_rainfall_mm']\n"
   ]
  },
  {
   "cell_type": "code",
   "execution_count": 96,
   "id": "8257f112",
   "metadata": {},
   "outputs": [],
   "source": [
    "sugarcane_df['districtname'] = sugarcane_df['districtname'].str.lower().str.strip()\n",
    "annual_rainfall['districtname'] = annual_rainfall['districtname'].str.lower().str.strip()\n",
    "monsoon_summary['districtname'] = monsoon_summary['districtname'].str.lower().str.strip()"
   ]
  },
  {
   "cell_type": "code",
   "execution_count": 97,
   "id": "329a44f7",
   "metadata": {},
   "outputs": [],
   "source": [
    "# === Merge rainfall summaries ===\n",
    "sugarcane_df = pd.merge(sugarcane_df, annual_rainfall, on='districtname', how='left')\n",
    "sugarcane_df = pd.merge(sugarcane_df, monsoon_summary, on='districtname', how='left')"
   ]
  },
  {
   "cell_type": "code",
   "execution_count": 100,
   "id": "aa34ffa2",
   "metadata": {},
   "outputs": [
    {
     "name": "stdout",
     "output_type": "stream",
     "text": [
      "Merged sugarcane data with rainfall:\n",
      "  districtname  annual_rainfall_mm  monsoon_rainfall_mm\n",
      "0         durg          861.629998           805.980000\n",
      "1       bastar          902.189990           781.249990\n",
      "2       raipur          683.989988           621.329990\n",
      "3     bilaspur         1857.730027          1539.510022\n",
      "4      raigarh          624.520000           563.340000\n",
      "5      surguja          580.889988           516.769989\n",
      "6     jabalpur          826.810001           775.400000\n",
      "7     balaghat          962.159988           899.959990\n",
      "8   chhindwara          953.030709           882.499790\n",
      "9  narsinghpur          817.670000           771.730000\n"
     ]
    }
   ],
   "source": [
    "print(\"Merged sugarcane data with rainfall:\")\n",
    "print(sugarcane_df[['districtname', 'annual_rainfall_mm', 'monsoon_rainfall_mm']].head(10))"
   ]
  },
  {
   "cell_type": "code",
   "execution_count": 115,
   "id": "0d99a68e",
   "metadata": {},
   "outputs": [
    {
     "name": "stdout",
     "output_type": "stream",
     "text": [
      "Merged districts (Task 1): 266\n",
      "Districts missing rainfall data: 48\n"
     ]
    }
   ],
   "source": [
    "merged_districts_task1 = sugarcane_df['districtname'].nunique()\n",
    "missing_rain = sugarcane_df[sugarcane_df['annual_rainfall_mm'].isna() | sugarcane_df['monsoon_rainfall_mm'].isna()]['districtname'].unique()\n",
    "print(\"Merged districts (Task 1):\", merged_districts_task1)\n",
    "print(\"Districts missing rainfall data:\", len(missing_rain))"
   ]
  },
  {
   "cell_type": "code",
   "execution_count": 113,
   "id": "e82193fe",
   "metadata": {},
   "outputs": [],
   "source": [
    "sugarcane_df.to_csv('data/task1_sugarcane_with_rainfall.csv', index=False)"
   ]
  },
  {
   "cell_type": "code",
   "execution_count": 102,
   "id": "2f6d5513",
   "metadata": {},
   "outputs": [
    {
     "data": {
      "text/html": [
       "<div>\n",
       "<style scoped>\n",
       "    .dataframe tbody tr th:only-of-type {\n",
       "        vertical-align: middle;\n",
       "    }\n",
       "\n",
       "    .dataframe tbody tr th {\n",
       "        vertical-align: top;\n",
       "    }\n",
       "\n",
       "    .dataframe thead th {\n",
       "        text-align: right;\n",
       "    }\n",
       "</style>\n",
       "<table border=\"1\" class=\"dataframe\">\n",
       "  <thead>\n",
       "    <tr style=\"text-align: right;\">\n",
       "      <th></th>\n",
       "      <th>District Name</th>\n",
       "      <th>Average Salinity/Alkalinity (Percentage)</th>\n",
       "    </tr>\n",
       "  </thead>\n",
       "  <tbody>\n",
       "    <tr>\n",
       "      <th>0</th>\n",
       "      <td>South Andamans</td>\n",
       "      <td>0.000000</td>\n",
       "    </tr>\n",
       "    <tr>\n",
       "      <th>1</th>\n",
       "      <td>Nicobars</td>\n",
       "      <td>0.000000</td>\n",
       "    </tr>\n",
       "    <tr>\n",
       "      <th>2</th>\n",
       "      <td>North And Middle Andaman</td>\n",
       "      <td>0.000000</td>\n",
       "    </tr>\n",
       "    <tr>\n",
       "      <th>3</th>\n",
       "      <td>Anantapur</td>\n",
       "      <td>12.341882</td>\n",
       "    </tr>\n",
       "    <tr>\n",
       "      <th>4</th>\n",
       "      <td>Chittoor</td>\n",
       "      <td>2.652205</td>\n",
       "    </tr>\n",
       "  </tbody>\n",
       "</table>\n",
       "</div>"
      ],
      "text/plain": [
       "              District Name  Average Salinity/Alkalinity (Percentage)\n",
       "0            South Andamans                                  0.000000\n",
       "1                  Nicobars                                  0.000000\n",
       "2  North And Middle Andaman                                  0.000000\n",
       "3                 Anantapur                                 12.341882\n",
       "4                  Chittoor                                  2.652205"
      ]
     },
     "execution_count": 102,
     "metadata": {},
     "output_type": "execute_result"
    }
   ],
   "source": [
    "salinity_df.head()"
   ]
  },
  {
   "cell_type": "code",
   "execution_count": 105,
   "id": "45bf8cb8",
   "metadata": {},
   "outputs": [],
   "source": [
    "salinity_df['districtname']= salinity_df['District Name'].str.lower().str.strip()"
   ]
  },
  {
   "cell_type": "code",
   "execution_count": 106,
   "id": "c0378b95",
   "metadata": {},
   "outputs": [],
   "source": [
    "sugarcane_df['districtname'] = sugarcane_df['districtname'].str.lower().str.strip()"
   ]
  },
  {
   "cell_type": "code",
   "execution_count": 108,
   "id": "1b25c5ef",
   "metadata": {},
   "outputs": [],
   "source": [
    "sugarcane_df = pd.merge(\n",
    "    sugarcane_df,\n",
    "    salinity_df[['districtname', 'Average Salinity/Alkalinity (Percentage)']],  # adjust if column name is different\n",
    "    on='districtname',\n",
    "    how='left'\n",
    ")"
   ]
  },
  {
   "cell_type": "code",
   "execution_count": 109,
   "id": "1e80681b",
   "metadata": {},
   "outputs": [
    {
     "name": "stdout",
     "output_type": "stream",
     "text": [
      "  districtname  Average Salinity/Alkalinity (Percentage)\n",
      "0         durg                                  0.000000\n",
      "1       bastar                                  0.000000\n",
      "2       raipur                                  0.000000\n",
      "3     bilaspur                                  0.390813\n",
      "4      raigarh                                  0.000000\n"
     ]
    }
   ],
   "source": [
    "print(sugarcane_df[['districtname', 'Average Salinity/Alkalinity (Percentage)']].dropna().head())\n"
   ]
  },
  {
   "cell_type": "code",
   "execution_count": 111,
   "id": "e7bcbeab",
   "metadata": {},
   "outputs": [
    {
     "name": "stdout",
     "output_type": "stream",
     "text": [
      "217 districts with salinity data\n"
     ]
    }
   ],
   "source": [
    "print(sugarcane_df['Average Salinity/Alkalinity (Percentage)'].notnull().sum(), \"districts with salinity data\")\n"
   ]
  },
  {
   "cell_type": "code",
   "execution_count": 112,
   "id": "d9c26e70",
   "metadata": {},
   "outputs": [],
   "source": [
    "# Save the DataFrame after merging salinity data\n",
    "sugarcane_df.to_csv('data/task2_sugarcane_salinity_merged.csv', index=False)"
   ]
  },
  {
   "cell_type": "code",
   "execution_count": null,
   "id": "b6578e65",
   "metadata": {},
   "outputs": [],
   "source": []
  }
 ],
 "metadata": {
  "kernelspec": {
   "display_name": "Python 3 (ipykernel)",
   "language": "python",
   "name": "python3"
  },
  "language_info": {
   "codemirror_mode": {
    "name": "ipython",
    "version": 3
   },
   "file_extension": ".py",
   "mimetype": "text/x-python",
   "name": "python",
   "nbconvert_exporter": "python",
   "pygments_lexer": "ipython3",
   "version": "3.13.3"
  }
 },
 "nbformat": 4,
 "nbformat_minor": 5
}

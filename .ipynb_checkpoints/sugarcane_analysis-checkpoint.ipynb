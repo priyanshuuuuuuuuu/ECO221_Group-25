{
 "cells": [
  {
   "cell_type": "code",
   "execution_count": 1,
   "id": "c2c4563a-fc6c-4db1-8235-be16ae57a2b4",
   "metadata": {},
   "outputs": [],
   "source": [
    "import pandas as pd"
   ]
  },
  {
   "cell_type": "code",
   "execution_count": 2,
   "id": "093c2c30-fee9-478d-9d29-7fddc2cfd87c",
   "metadata": {},
   "outputs": [],
   "source": [
    "import numpy as np"
   ]
  },
  {
   "cell_type": "code",
   "execution_count": 7,
   "id": "21010d26-35cf-4765-aa1f-f35ccc105a56",
   "metadata": {},
   "outputs": [],
   "source": [
    "crop_df = pd.read_csv(r'D:\\ECO221_Group-25\\data\\ECO221_Project_2025_Final.csv')"
   ]
  },
  {
   "cell_type": "code",
   "execution_count": 8,
   "id": "48eb8a52-d968-4d49-ad51-114d7b73a3b1",
   "metadata": {},
   "outputs": [],
   "source": [
    "rainfall_df = pd.read_csv(r'D:\\ECO221_Group-25\\data\\RF_DistrictWise_ECO221_2025.csv')"
   ]
  },
  {
   "cell_type": "code",
   "execution_count": 9,
   "id": "ff58f775-f407-464d-b1de-83f605294f09",
   "metadata": {},
   "outputs": [],
   "source": [
    "salinity_df = pd.read_csv(r'D:\\ECO221_Group-25\\data\\Salinity_Alkalinity_ECO221_2025.csv')"
   ]
  },
  {
   "cell_type": "code",
   "execution_count": 43,
   "id": "c880409d-ce16-4f38-8059-8cfa0f5536c7",
   "metadata": {},
   "outputs": [],
   "source": [
    "sugarcane_df = crop_df[crop_df[\"crop\"].str.lower()==\"sugarcane\"].copy()"
   ]
  },
  {
   "cell_type": "code",
   "execution_count": 44,
   "id": "1cecfdcd-a7f6-45a9-a5c9-cae8801af1fd",
   "metadata": {},
   "outputs": [],
   "source": [
    "#Capping the irrigated Area\n",
    "sugarcane_df[\"irrigatedarea_capped\"] = sugarcane_df[[\"irrigatedarea1000hectares\",\"area1000hectares\"]].min(axis=1)"
   ]
  },
  {
   "cell_type": "code",
   "execution_count": 45,
   "id": "74eb5454-4043-4c1a-ad49-33fef401fab3",
   "metadata": {},
   "outputs": [],
   "source": [
    "sugarcane_df[\"irrigatedarea_new\"] = sugarcane_df[\"irrigatedarea_capped\"] + 1"
   ]
  },
  {
   "cell_type": "code",
   "execution_count": 46,
   "id": "b40d7ef1-9f7a-4cfe-aacd-64178b24e278",
   "metadata": {},
   "outputs": [],
   "source": [
    "sugarcane_df[\"unirrigated_area\"] = sugarcane_df[\"area1000hectares\"] - sugarcane_df[\"irrigatedarea_capped\"]"
   ]
  },
  {
   "cell_type": "code",
   "execution_count": 47,
   "id": "a6b1e601-dc3b-4873-b794-ff88bc64f7bb",
   "metadata": {},
   "outputs": [
    {
     "data": {
      "text/plain": [
       "crop                          0\n",
       "area1000hectares              0\n",
       "production1000tonnes          0\n",
       "irrigatedarea1000hectares     0\n",
       "districtcode                  0\n",
       "year                          0\n",
       "statecode                     0\n",
       "statename                     0\n",
       "nitrogenconsumptiontonnes     0\n",
       "phosphateconsumptiontonnes    0\n",
       "potashconsumptiontonnes       0\n",
       "districtname                  0\n",
       "irrigatedarea_capped          0\n",
       "irrigatedarea_new             0\n",
       "unirrigated_area              0\n",
       "annual_rainfall               0\n",
       "salinity_percent              0\n",
       "dtype: int64"
      ]
     },
     "execution_count": 47,
     "metadata": {},
     "output_type": "execute_result"
    }
   ],
   "source": [
    "sugercane_df.isnull().sum()"
   ]
  },
  {
   "cell_type": "code",
   "execution_count": 22,
   "id": "1eca2322-a1a4-46ff-9b95-0171bb6da930",
   "metadata": {},
   "outputs": [],
   "source": [
    "rainfall_2017 = rainfall_df[rainfall_df['yearcode'] == 2017]"
   ]
  },
  {
   "cell_type": "code",
   "execution_count": 24,
   "id": "d59f2b38-88ad-4caf-9d89-0d7054a6c4d1",
   "metadata": {},
   "outputs": [],
   "source": [
    "rainfall_summary = rainfall_2017.groupby('district')['rf'].sum().reset_index()"
   ]
  },
  {
   "cell_type": "code",
   "execution_count": 25,
   "id": "a149d568-a36e-460e-acae-efa1132487df",
   "metadata": {},
   "outputs": [],
   "source": [
    "rainfall_summary.columns = ['districtname','annual_rainfall']"
   ]
  },
  {
   "cell_type": "code",
   "execution_count": 26,
   "id": "1f72731f-6c85-4817-aa23-3db771784008",
   "metadata": {},
   "outputs": [],
   "source": [
    "salinity_df.columns = ['districtname','salinity_percent']"
   ]
  },
  {
   "cell_type": "code",
   "execution_count": 48,
   "id": "d5cdb85d-c138-4bac-9d19-2867fb2c56f7",
   "metadata": {},
   "outputs": [],
   "source": [
    "sugarcane_df['districtname'] = sugarcane_df['districtname'].str.strip().str.lower()\n",
    "rainfall_summary['districtname'] = rainfall_summary['districtname'].str.strip().str.lower()\n",
    "salinity_df['districtname'] = salinity_df['districtname'].str.strip().str.lower()"
   ]
  },
  {
   "cell_type": "code",
   "execution_count": 49,
   "id": "398d79bc-2fed-46aa-a87c-ae4f9de4337a",
   "metadata": {},
   "outputs": [
    {
     "name": "stdout",
     "output_type": "stream",
     "text": [
      "Common districts (rainfall): {'patna', 'raigad', 'chamba', 'nalgonda', 'fatehpur', 'karbi anglong', 'dibrugarh', 'tikamgarh', 'jalaun', 'thiruvananthapuram', 'etawah', 'dharwad', 'ahmednagar', 'thane', 'rampur', 'gwalior', 'morena', 'east godavari', 'mandi', 'uttara kannada', 'dhule', 'meerut', 'deoria', 'ballia', 'udaipur', 'nagpur', 'betul', 'chittoor', 'the nilgiris', 'raipur', 'nagaur', 'jind', 'barabanki', 'bhind', 'chhindwara', 'muzaffarnagar', 'jamnagar', 'rohtak', 'sehore', 'alappuzha', 'darrang', 'gurdaspur', 'karnal', 'osmanabad', 'dakshina kannada', 'dehradun', 'palakkad', 'saharsa', 'tehri garhwal', 'kamrup', 'kullu', 'ganganagar', 'solan', 'panna', 'beed', 'hardoi', 'nizamabad', 'balaghat', 'surendranagar', 'pratapgarh', 'ajmer', 'kheri', 'lucknow', 'sidhi', 'gonda', 'dewas', 'jhabua', 'shimla', 'uttar kashi', 'sikar', 'dhar', 'saharanpur', 'hazaribagh', 'bhavnagar', 'dungarpur', 'goalpara', 'shahjahanpur', 'budaun', 'ratlam', 'kurnool', 'kollam', 'darbhanga', 'datia', 'chittorgarh', 'narsinghpur', 'vidisha', 'raigarh', 'bijnor', 'patiala', 'varanasi', 'srikakulam', 'shahdol', 'warangal', 'ambala', 'bhagalpur', 'muzaffarpur', 'jalore', 'azamgarh', 'bharuch', 'bharatpur', 'karimnagar', 'kozhikode', 'sitapur', 'jaisalmer', 'jaunpur', 'sangli', 'surat', 'gorakhpur', 'damoh', 'farrukhabad', 'medak', 'akola', 'jhansi', 'shivpuri', 'gaya', 'thrissur', 'satara', 'ratnagiri', 'jabalpur', 'krishna', 'chitradurga', 'pilibhit', 'nainital', 'kannur', 'rajgarh', 'ludhiana', 'nagaon', 'chhatarpur', 'kottayam', 'solapur', 'saran', 'kangra', 'satna', 'sangrur', 'salem', 'bhandara', 'mandla', 'raichur', 'amritsar', 'parbhani', 'shajapur', 'west godavari', 'hassan', 'madurai', 'jhalawar', 'alwar', 'guna', 'bidar', 'hyderabad', 'jalandhar', 'bhilwara', 'bareilly', 'bikaner', 'jaipur', 'hamirpur', 'kapurthala', 'amreli', 'hoshangabad', 'basti', 'bilaspur', 'chandrapur', 'jodhpur', 'mandsaur', 'khammam', 'kolar', 'nanded', 'valsad', 'rajkot', 'sagar', 'kinnaur', 'bastar', 'indore', 'mandya', 'bundi', 'aurangabad', 'thanjavur', 'ranchi', 'surguja', 'sultanpur', 'sirohi', 'mathura', 'malappuram', 'banda', 'adilabad', 'dhanbad', 'hoshiarpur', 'etah', 'pune', 'junagadh', 'cachar', 'agra', 'unnao', 'ghazipur', 'ujjain', 'mainpuri', 'mahabubnagar', 'tonk', 'durg', 'jalgaon', 'barmer', 'aligarh', 'pali', 'sirmaur', 'wardha', 'kota', 'rewa', 'banswara', 'buldhana', 'kheda', 'raisen', 'kolhapur', 'bahraich', 'guntur', 'lakhimpur', 'moradabad', 'chamoli', 'churu', 'coimbatore'}\n",
      "Common districts (salinity): {'patna', 'raigad', 'chamba', 'nalgonda', 'fatehpur', 'karbi anglong', 'dibrugarh', 'tikamgarh', 'jalaun', 'thiruvananthapuram', 'etawah', 'dharwad', 'ahmednagar', 'thane', 'rampur', 'gwalior', 'morena', 'east godavari', 'mandi', 'uttara kannada', 'dhule', 'meerut', 'deoria', 'ballia', 'udaipur', 'nagpur', 'betul', 'chittoor', 'the nilgiris', 'raipur', 'nagaur', 'jind', 'barabanki', 'bhind', 'chhindwara', 'muzaffarnagar', 'jamnagar', 'rohtak', 'sehore', 'alappuzha', 'darrang', 'gurdaspur', 'karnal', 'osmanabad', 'dakshina kannada', 'dehradun', 'palakkad', 'saharsa', 'tehri garhwal', 'kamrup', 'kullu', 'ganganagar', 'solan', 'panna', 'beed', 'hardoi', 'nizamabad', 'balaghat', 'surendranagar', 'pratapgarh', 'ajmer', 'kheri', 'lucknow', 'sidhi', 'gonda', 'dewas', 'jhabua', 'shimla', 'uttar kashi', 'sikar', 'dhar', 'saharanpur', 'hazaribagh', 'bhavnagar', 'dungarpur', 'goalpara', 'shahjahanpur', 'budaun', 'ratlam', 'kurnool', 'kollam', 'darbhanga', 'datia', 'chittorgarh', 'narsinghpur', 'vidisha', 'raigarh', 'bijnor', 'patiala', 'varanasi', 'srikakulam', 'shahdol', 'ambala', 'bhagalpur', 'muzaffarpur', 'jalore', 'azamgarh', 'bharuch', 'bharatpur', 'karimnagar', 'kozhikode', 'sitapur', 'jaisalmer', 'jaunpur', 'sangli', 'surat', 'gorakhpur', 'damoh', 'farrukhabad', 'medak', 'akola', 'jhansi', 'shivpuri', 'gaya', 'thrissur', 'satara', 'ratnagiri', 'jabalpur', 'krishna', 'chitradurga', 'pilibhit', 'nainital', 'kannur', 'rajgarh', 'ludhiana', 'nagaon', 'chhatarpur', 'kottayam', 'solapur', 'saran', 'kangra', 'satna', 'sangrur', 'salem', 'bhandara', 'mandla', 'raichur', 'amritsar', 'parbhani', 'shajapur', 'west godavari', 'hassan', 'madurai', 'jhalawar', 'alwar', 'guna', 'bidar', 'hyderabad', 'jalandhar', 'bhilwara', 'bareilly', 'bikaner', 'jaipur', 'hamirpur', 'kapurthala', 'amreli', 'hoshangabad', 'basti', 'bilaspur', 'chandrapur', 'jodhpur', 'mandsaur', 'khammam', 'kolar', 'nanded', 'valsad', 'rajkot', 'sagar', 'kinnaur', 'bastar', 'indore', 'mandya', 'bundi', 'aurangabad', 'thanjavur', 'ranchi', 'surguja', 'sultanpur', 'sirohi', 'mathura', 'malappuram', 'banda', 'adilabad', 'dhanbad', 'hoshiarpur', 'etah', 'pune', 'junagadh', 'cachar', 'agra', 'unnao', 'ghazipur', 'ujjain', 'mainpuri', 'mahabubnagar', 'tonk', 'durg', 'jalgaon', 'barmer', 'aligarh', 'pali', 'sirmaur', 'wardha', 'kota', 'rewa', 'banswara', 'buldhana', 'kheda', 'raisen', 'kolhapur', 'bahraich', 'guntur', 'lakhimpur', 'moradabad', 'chamoli', 'churu', 'coimbatore'}\n"
     ]
    }
   ],
   "source": [
    "print(\"Common districts (rainfall):\", set(sugarcane_df['districtname']) & set(rainfall_summary['districtname']))\n",
    "print(\"Common districts (salinity):\", set(sugarcane_df['districtname']) & set(salinity_df['districtname']))"
   ]
  },
  {
   "cell_type": "code",
   "execution_count": 50,
   "id": "48bd6aa2-084f-4f89-82ec-25e38512bb39",
   "metadata": {},
   "outputs": [
    {
     "name": "stdout",
     "output_type": "stream",
     "text": [
      "Sugarcane districts:\n",
      " ['durg' 'bastar' 'raipur' 'bilaspur' 'raigarh' 'surguja' 'jabalpur'\n",
      " 'balaghat' 'chhindwara' 'narsinghpur']\n",
      "\n",
      "Rainfall districts:\n",
      " ['24 paraganas north' '24 paraganas south' 'adilabad' 'agar malwa' 'agra'\n",
      " 'ahmadabad' 'ahmednagar' 'aizawl' 'ajmer' 'akola']\n",
      "\n",
      "Salinity districts:\n",
      " ['south andamans' 'nicobars' 'north and middle andaman' 'anantapur'\n",
      " 'chittoor' 'y.s.r.' 'east godavari' 'guntur' 'krishna' 'kurnool']\n"
     ]
    }
   ],
   "source": [
    "print(\"Sugarcane districts:\\n\", sugarcane_df['districtname'].dropna().unique()[:10])\n",
    "print(\"\\nRainfall districts:\\n\", rainfall_summary['districtname'].dropna().unique()[:10])\n",
    "print(\"\\nSalinity districts:\\n\", salinity_df['districtname'].dropna().unique()[:10])"
   ]
  },
  {
   "cell_type": "code",
   "execution_count": 51,
   "id": "0a80179a-8cfe-4160-8d39-c27b48f9dd39",
   "metadata": {},
   "outputs": [
    {
     "name": "stdout",
     "output_type": "stream",
     "text": [
      "(266, 15)\n",
      "         crop  area1000hectares  production1000tonnes  \\\n",
      "8   Sugarcane             19.85                  3.59   \n",
      "35  Sugarcane              0.72                  0.11   \n",
      "64  Sugarcane              0.27                  0.05   \n",
      "71  Sugarcane              7.57                  0.83   \n",
      "95  Sugarcane              0.43                  0.09   \n",
      "\n",
      "    irrigatedarea1000hectares  districtcode  year  statecode     statename  \\\n",
      "8                      19.820             1  2017         14  Chhattisgarh   \n",
      "35                      0.616             2  2017         14  Chhattisgarh   \n",
      "64                      0.267             3  2017         14  Chhattisgarh   \n",
      "71                      7.484             4  2017         14  Chhattisgarh   \n",
      "95                      0.431             5  2017         14  Chhattisgarh   \n",
      "\n",
      "    nitrogenconsumptiontonnes  phosphateconsumptiontonnes  \\\n",
      "8                       91447                       53486   \n",
      "35                      21279                       12584   \n",
      "64                      92008                       47721   \n",
      "71                      72926                       29713   \n",
      "95                      31282                       13620   \n",
      "\n",
      "    potashconsumptiontonnes districtname  irrigatedarea_capped  \\\n",
      "8                     16993         durg                19.820   \n",
      "35                     4271       bastar                 0.616   \n",
      "64                    15054       raipur                 0.267   \n",
      "71                     6915     bilaspur                 7.484   \n",
      "95                     3707      raigarh                 0.430   \n",
      "\n",
      "    irrigatedarea_new  unirrigated_area  \n",
      "8              20.820             0.030  \n",
      "35              1.616             0.104  \n",
      "64              1.267             0.003  \n",
      "71              8.484             0.086  \n",
      "95              1.430             0.000  \n"
     ]
    }
   ],
   "source": [
    "print(sugarcane_df.shape)\n",
    "print(sugarcane_df.head())\n"
   ]
  },
  {
   "cell_type": "code",
   "execution_count": 52,
   "id": "005adfd3-3a9c-4fb0-84bd-73c76142931b",
   "metadata": {},
   "outputs": [],
   "source": [
    "sugarcane_df = pd.merge(sugarcane_df,rainfall_summary,on='districtname',how = 'left')"
   ]
  },
  {
   "cell_type": "code",
   "execution_count": 53,
   "id": "14350625-bbcc-47e8-880a-938244a760d5",
   "metadata": {},
   "outputs": [],
   "source": [
    "sugarcane_df = pd.merge(sugarcane_df,salinity_df,on= 'districtname',how='left')"
   ]
  },
  {
   "cell_type": "code",
   "execution_count": 54,
   "id": "f9ed3a87-0edc-43cd-be70-b629120c0524",
   "metadata": {},
   "outputs": [],
   "source": [
    "pd.set_option('display.max_columns',None)"
   ]
  },
  {
   "cell_type": "code",
   "execution_count": 55,
   "id": "531ee020-028f-49bd-803e-1d0c64a7083b",
   "metadata": {},
   "outputs": [],
   "source": [
    "pd.set_option('display.width', None)"
   ]
  },
  {
   "cell_type": "code",
   "execution_count": 57,
   "id": "2d21b2db-97fd-4193-8c63-142ff7b625fb",
   "metadata": {},
   "outputs": [
    {
     "name": "stdout",
     "output_type": "stream",
     "text": [
      "(266, 17)\n"
     ]
    }
   ],
   "source": [
    "print(sugarcane_df.shape)"
   ]
  },
  {
   "cell_type": "code",
   "execution_count": 58,
   "id": "4dfd77af-ce45-4877-bafc-8648d6aeedca",
   "metadata": {},
   "outputs": [
    {
     "data": {
      "text/html": [
       "<div>\n",
       "<style scoped>\n",
       "    .dataframe tbody tr th:only-of-type {\n",
       "        vertical-align: middle;\n",
       "    }\n",
       "\n",
       "    .dataframe tbody tr th {\n",
       "        vertical-align: top;\n",
       "    }\n",
       "\n",
       "    .dataframe thead th {\n",
       "        text-align: right;\n",
       "    }\n",
       "</style>\n",
       "<table border=\"1\" class=\"dataframe\">\n",
       "  <thead>\n",
       "    <tr style=\"text-align: right;\">\n",
       "      <th></th>\n",
       "      <th>crop</th>\n",
       "      <th>area1000hectares</th>\n",
       "      <th>production1000tonnes</th>\n",
       "      <th>irrigatedarea1000hectares</th>\n",
       "      <th>districtcode</th>\n",
       "      <th>year</th>\n",
       "      <th>statecode</th>\n",
       "      <th>statename</th>\n",
       "      <th>nitrogenconsumptiontonnes</th>\n",
       "      <th>phosphateconsumptiontonnes</th>\n",
       "      <th>potashconsumptiontonnes</th>\n",
       "      <th>districtname</th>\n",
       "      <th>irrigatedarea_capped</th>\n",
       "      <th>irrigatedarea_new</th>\n",
       "      <th>unirrigated_area</th>\n",
       "      <th>annual_rainfall</th>\n",
       "      <th>salinity_percent</th>\n",
       "    </tr>\n",
       "  </thead>\n",
       "  <tbody>\n",
       "    <tr>\n",
       "      <th>0</th>\n",
       "      <td>Sugarcane</td>\n",
       "      <td>19.85</td>\n",
       "      <td>3.59</td>\n",
       "      <td>19.820</td>\n",
       "      <td>1</td>\n",
       "      <td>2017</td>\n",
       "      <td>14</td>\n",
       "      <td>Chhattisgarh</td>\n",
       "      <td>91447</td>\n",
       "      <td>53486</td>\n",
       "      <td>16993</td>\n",
       "      <td>durg</td>\n",
       "      <td>19.820</td>\n",
       "      <td>20.820</td>\n",
       "      <td>0.030</td>\n",
       "      <td>861.629998</td>\n",
       "      <td>0.000000</td>\n",
       "    </tr>\n",
       "    <tr>\n",
       "      <th>1</th>\n",
       "      <td>Sugarcane</td>\n",
       "      <td>0.72</td>\n",
       "      <td>0.11</td>\n",
       "      <td>0.616</td>\n",
       "      <td>2</td>\n",
       "      <td>2017</td>\n",
       "      <td>14</td>\n",
       "      <td>Chhattisgarh</td>\n",
       "      <td>21279</td>\n",
       "      <td>12584</td>\n",
       "      <td>4271</td>\n",
       "      <td>bastar</td>\n",
       "      <td>0.616</td>\n",
       "      <td>1.616</td>\n",
       "      <td>0.104</td>\n",
       "      <td>902.189990</td>\n",
       "      <td>0.000000</td>\n",
       "    </tr>\n",
       "    <tr>\n",
       "      <th>2</th>\n",
       "      <td>Sugarcane</td>\n",
       "      <td>0.27</td>\n",
       "      <td>0.05</td>\n",
       "      <td>0.267</td>\n",
       "      <td>3</td>\n",
       "      <td>2017</td>\n",
       "      <td>14</td>\n",
       "      <td>Chhattisgarh</td>\n",
       "      <td>92008</td>\n",
       "      <td>47721</td>\n",
       "      <td>15054</td>\n",
       "      <td>raipur</td>\n",
       "      <td>0.267</td>\n",
       "      <td>1.267</td>\n",
       "      <td>0.003</td>\n",
       "      <td>683.989988</td>\n",
       "      <td>0.000000</td>\n",
       "    </tr>\n",
       "    <tr>\n",
       "      <th>3</th>\n",
       "      <td>Sugarcane</td>\n",
       "      <td>7.57</td>\n",
       "      <td>0.83</td>\n",
       "      <td>7.484</td>\n",
       "      <td>4</td>\n",
       "      <td>2017</td>\n",
       "      <td>14</td>\n",
       "      <td>Chhattisgarh</td>\n",
       "      <td>72926</td>\n",
       "      <td>29713</td>\n",
       "      <td>6915</td>\n",
       "      <td>bilaspur</td>\n",
       "      <td>7.484</td>\n",
       "      <td>8.484</td>\n",
       "      <td>0.086</td>\n",
       "      <td>1857.730027</td>\n",
       "      <td>0.390813</td>\n",
       "    </tr>\n",
       "    <tr>\n",
       "      <th>4</th>\n",
       "      <td>Sugarcane</td>\n",
       "      <td>0.43</td>\n",
       "      <td>0.09</td>\n",
       "      <td>0.431</td>\n",
       "      <td>5</td>\n",
       "      <td>2017</td>\n",
       "      <td>14</td>\n",
       "      <td>Chhattisgarh</td>\n",
       "      <td>31282</td>\n",
       "      <td>13620</td>\n",
       "      <td>3707</td>\n",
       "      <td>raigarh</td>\n",
       "      <td>0.430</td>\n",
       "      <td>1.430</td>\n",
       "      <td>0.000</td>\n",
       "      <td>624.520000</td>\n",
       "      <td>0.000000</td>\n",
       "    </tr>\n",
       "  </tbody>\n",
       "</table>\n",
       "</div>"
      ],
      "text/plain": [
       "        crop  area1000hectares  production1000tonnes  \\\n",
       "0  Sugarcane             19.85                  3.59   \n",
       "1  Sugarcane              0.72                  0.11   \n",
       "2  Sugarcane              0.27                  0.05   \n",
       "3  Sugarcane              7.57                  0.83   \n",
       "4  Sugarcane              0.43                  0.09   \n",
       "\n",
       "   irrigatedarea1000hectares  districtcode  year  statecode     statename  \\\n",
       "0                     19.820             1  2017         14  Chhattisgarh   \n",
       "1                      0.616             2  2017         14  Chhattisgarh   \n",
       "2                      0.267             3  2017         14  Chhattisgarh   \n",
       "3                      7.484             4  2017         14  Chhattisgarh   \n",
       "4                      0.431             5  2017         14  Chhattisgarh   \n",
       "\n",
       "   nitrogenconsumptiontonnes  phosphateconsumptiontonnes  \\\n",
       "0                      91447                       53486   \n",
       "1                      21279                       12584   \n",
       "2                      92008                       47721   \n",
       "3                      72926                       29713   \n",
       "4                      31282                       13620   \n",
       "\n",
       "   potashconsumptiontonnes districtname  irrigatedarea_capped  \\\n",
       "0                    16993         durg                19.820   \n",
       "1                     4271       bastar                 0.616   \n",
       "2                    15054       raipur                 0.267   \n",
       "3                     6915     bilaspur                 7.484   \n",
       "4                     3707      raigarh                 0.430   \n",
       "\n",
       "   irrigatedarea_new  unirrigated_area  annual_rainfall  salinity_percent  \n",
       "0             20.820             0.030       861.629998          0.000000  \n",
       "1              1.616             0.104       902.189990          0.000000  \n",
       "2              1.267             0.003       683.989988          0.000000  \n",
       "3              8.484             0.086      1857.730027          0.390813  \n",
       "4              1.430             0.000       624.520000          0.000000  "
      ]
     },
     "execution_count": 58,
     "metadata": {},
     "output_type": "execute_result"
    }
   ],
   "source": [
    "sugarcane_df.head()"
   ]
  },
  {
   "cell_type": "code",
   "execution_count": 59,
   "id": "cd9b76ce-efac-49ec-bf66-7caa0493afdf",
   "metadata": {},
   "outputs": [
    {
     "data": {
      "text/plain": [
       "crop                           0\n",
       "area1000hectares              65\n",
       "production1000tonnes          65\n",
       "irrigatedarea1000hectares     65\n",
       "districtcode                   0\n",
       "year                           0\n",
       "statecode                      0\n",
       "statename                      0\n",
       "nitrogenconsumptiontonnes      0\n",
       "phosphateconsumptiontonnes     0\n",
       "potashconsumptiontonnes        0\n",
       "districtname                   0\n",
       "irrigatedarea_capped          65\n",
       "irrigatedarea_new             65\n",
       "unirrigated_area              65\n",
       "annual_rainfall               48\n",
       "salinity_percent              49\n",
       "dtype: int64"
      ]
     },
     "execution_count": 59,
     "metadata": {},
     "output_type": "execute_result"
    }
   ],
   "source": [
    "sugarcane_df.isnull().sum()"
   ]
  },
  {
   "cell_type": "code",
   "execution_count": 60,
   "id": "21339395-e6d1-4519-9697-ee10439f5c40",
   "metadata": {},
   "outputs": [],
   "source": [
    "sugarcane_df.dropna(inplace = True)"
   ]
  },
  {
   "cell_type": "code",
   "execution_count": 62,
   "id": "58174f8e-5e35-4292-9998-ee0ceebd3fbe",
   "metadata": {},
   "outputs": [
    {
     "data": {
      "text/html": [
       "<div>\n",
       "<style scoped>\n",
       "    .dataframe tbody tr th:only-of-type {\n",
       "        vertical-align: middle;\n",
       "    }\n",
       "\n",
       "    .dataframe tbody tr th {\n",
       "        vertical-align: top;\n",
       "    }\n",
       "\n",
       "    .dataframe thead th {\n",
       "        text-align: right;\n",
       "    }\n",
       "</style>\n",
       "<table border=\"1\" class=\"dataframe\">\n",
       "  <thead>\n",
       "    <tr style=\"text-align: right;\">\n",
       "      <th></th>\n",
       "      <th>crop</th>\n",
       "      <th>area1000hectares</th>\n",
       "      <th>production1000tonnes</th>\n",
       "      <th>irrigatedarea1000hectares</th>\n",
       "      <th>districtcode</th>\n",
       "      <th>year</th>\n",
       "      <th>statecode</th>\n",
       "      <th>statename</th>\n",
       "      <th>nitrogenconsumptiontonnes</th>\n",
       "      <th>phosphateconsumptiontonnes</th>\n",
       "      <th>potashconsumptiontonnes</th>\n",
       "      <th>districtname</th>\n",
       "      <th>irrigatedarea_capped</th>\n",
       "      <th>irrigatedarea_new</th>\n",
       "      <th>unirrigated_area</th>\n",
       "      <th>annual_rainfall</th>\n",
       "      <th>salinity_percent</th>\n",
       "    </tr>\n",
       "  </thead>\n",
       "  <tbody>\n",
       "    <tr>\n",
       "      <th>0</th>\n",
       "      <td>Sugarcane</td>\n",
       "      <td>19.85</td>\n",
       "      <td>3.59</td>\n",
       "      <td>19.820</td>\n",
       "      <td>1</td>\n",
       "      <td>2017</td>\n",
       "      <td>14</td>\n",
       "      <td>Chhattisgarh</td>\n",
       "      <td>91447</td>\n",
       "      <td>53486</td>\n",
       "      <td>16993</td>\n",
       "      <td>durg</td>\n",
       "      <td>19.820</td>\n",
       "      <td>20.820</td>\n",
       "      <td>0.030</td>\n",
       "      <td>861.629998</td>\n",
       "      <td>0.000000</td>\n",
       "    </tr>\n",
       "    <tr>\n",
       "      <th>1</th>\n",
       "      <td>Sugarcane</td>\n",
       "      <td>0.72</td>\n",
       "      <td>0.11</td>\n",
       "      <td>0.616</td>\n",
       "      <td>2</td>\n",
       "      <td>2017</td>\n",
       "      <td>14</td>\n",
       "      <td>Chhattisgarh</td>\n",
       "      <td>21279</td>\n",
       "      <td>12584</td>\n",
       "      <td>4271</td>\n",
       "      <td>bastar</td>\n",
       "      <td>0.616</td>\n",
       "      <td>1.616</td>\n",
       "      <td>0.104</td>\n",
       "      <td>902.189990</td>\n",
       "      <td>0.000000</td>\n",
       "    </tr>\n",
       "    <tr>\n",
       "      <th>2</th>\n",
       "      <td>Sugarcane</td>\n",
       "      <td>0.27</td>\n",
       "      <td>0.05</td>\n",
       "      <td>0.267</td>\n",
       "      <td>3</td>\n",
       "      <td>2017</td>\n",
       "      <td>14</td>\n",
       "      <td>Chhattisgarh</td>\n",
       "      <td>92008</td>\n",
       "      <td>47721</td>\n",
       "      <td>15054</td>\n",
       "      <td>raipur</td>\n",
       "      <td>0.267</td>\n",
       "      <td>1.267</td>\n",
       "      <td>0.003</td>\n",
       "      <td>683.989988</td>\n",
       "      <td>0.000000</td>\n",
       "    </tr>\n",
       "    <tr>\n",
       "      <th>3</th>\n",
       "      <td>Sugarcane</td>\n",
       "      <td>7.57</td>\n",
       "      <td>0.83</td>\n",
       "      <td>7.484</td>\n",
       "      <td>4</td>\n",
       "      <td>2017</td>\n",
       "      <td>14</td>\n",
       "      <td>Chhattisgarh</td>\n",
       "      <td>72926</td>\n",
       "      <td>29713</td>\n",
       "      <td>6915</td>\n",
       "      <td>bilaspur</td>\n",
       "      <td>7.484</td>\n",
       "      <td>8.484</td>\n",
       "      <td>0.086</td>\n",
       "      <td>1857.730027</td>\n",
       "      <td>0.390813</td>\n",
       "    </tr>\n",
       "    <tr>\n",
       "      <th>4</th>\n",
       "      <td>Sugarcane</td>\n",
       "      <td>0.43</td>\n",
       "      <td>0.09</td>\n",
       "      <td>0.431</td>\n",
       "      <td>5</td>\n",
       "      <td>2017</td>\n",
       "      <td>14</td>\n",
       "      <td>Chhattisgarh</td>\n",
       "      <td>31282</td>\n",
       "      <td>13620</td>\n",
       "      <td>3707</td>\n",
       "      <td>raigarh</td>\n",
       "      <td>0.430</td>\n",
       "      <td>1.430</td>\n",
       "      <td>0.000</td>\n",
       "      <td>624.520000</td>\n",
       "      <td>0.000000</td>\n",
       "    </tr>\n",
       "  </tbody>\n",
       "</table>\n",
       "</div>"
      ],
      "text/plain": [
       "        crop  area1000hectares  production1000tonnes  \\\n",
       "0  Sugarcane             19.85                  3.59   \n",
       "1  Sugarcane              0.72                  0.11   \n",
       "2  Sugarcane              0.27                  0.05   \n",
       "3  Sugarcane              7.57                  0.83   \n",
       "4  Sugarcane              0.43                  0.09   \n",
       "\n",
       "   irrigatedarea1000hectares  districtcode  year  statecode     statename  \\\n",
       "0                     19.820             1  2017         14  Chhattisgarh   \n",
       "1                      0.616             2  2017         14  Chhattisgarh   \n",
       "2                      0.267             3  2017         14  Chhattisgarh   \n",
       "3                      7.484             4  2017         14  Chhattisgarh   \n",
       "4                      0.431             5  2017         14  Chhattisgarh   \n",
       "\n",
       "   nitrogenconsumptiontonnes  phosphateconsumptiontonnes  \\\n",
       "0                      91447                       53486   \n",
       "1                      21279                       12584   \n",
       "2                      92008                       47721   \n",
       "3                      72926                       29713   \n",
       "4                      31282                       13620   \n",
       "\n",
       "   potashconsumptiontonnes districtname  irrigatedarea_capped  \\\n",
       "0                    16993         durg                19.820   \n",
       "1                     4271       bastar                 0.616   \n",
       "2                    15054       raipur                 0.267   \n",
       "3                     6915     bilaspur                 7.484   \n",
       "4                     3707      raigarh                 0.430   \n",
       "\n",
       "   irrigatedarea_new  unirrigated_area  annual_rainfall  salinity_percent  \n",
       "0             20.820             0.030       861.629998          0.000000  \n",
       "1              1.616             0.104       902.189990          0.000000  \n",
       "2              1.267             0.003       683.989988          0.000000  \n",
       "3              8.484             0.086      1857.730027          0.390813  \n",
       "4              1.430             0.000       624.520000          0.000000  "
      ]
     },
     "execution_count": 62,
     "metadata": {},
     "output_type": "execute_result"
    }
   ],
   "source": [
    "sugarcane_df.head()"
   ]
  },
  {
   "cell_type": "code",
   "execution_count": null,
   "id": "c1c5c97b-39d8-40bc-bbcb-dd5741ae4c1c",
   "metadata": {},
   "outputs": [],
   "source": []
  }
 ],
 "metadata": {
  "kernelspec": {
   "display_name": "Python 3 (ipykernel)",
   "language": "python",
   "name": "python3"
  },
  "language_info": {
   "codemirror_mode": {
    "name": "ipython",
    "version": 3
   },
   "file_extension": ".py",
   "mimetype": "text/x-python",
   "name": "python",
   "nbconvert_exporter": "python",
   "pygments_lexer": "ipython3",
   "version": "3.13.3"
  }
 },
 "nbformat": 4,
 "nbformat_minor": 5
}
